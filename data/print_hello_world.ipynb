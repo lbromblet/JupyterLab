{
 "cells": [
  {
   "cell_type": "code",
   "execution_count": 11,
   "metadata": {},
   "outputs": [
    {
     "name": "stdout",
     "output_type": "stream",
     "text": [
      "Hello World IPYNB\n",
      "Ligne 2\n"
     ]
    }
   ],
   "source": [
    "print(\"Hello World IPYNB\")\n",
    "\n",
    "print(\"Ligne 2\")"
   ]
  },
  {
   "cell_type": "code",
   "execution_count": 1,
   "metadata": {},
   "outputs": [
    {
     "name": "stdout",
     "output_type": "stream",
     "text": [
      "Ligne 1\n"
     ]
    }
   ],
   "source": [
    "print(\"Ligne 1\")"
   ]
  },
  {
   "cell_type": "code",
   "execution_count": 4,
   "metadata": {},
   "outputs": [],
   "source": [
    "from pandas import read_csv\n",
    "url= \"https://raw.githubusercontent.com/jbrownlee/Datasets/master/iris.csv\"\n",
    "names = ['sepal-length','sepal-width','petal-length','petal-width','class']\n",
    "dataset = read_csv(url, names=names)"
   ]
  },
  {
   "cell_type": "code",
   "execution_count": 7,
   "metadata": {},
   "outputs": [
    {
     "data": {
      "text/html": [
       "<div>\n",
       "<style scoped>\n",
       "    .dataframe tbody tr th:only-of-type {\n",
       "        vertical-align: middle;\n",
       "    }\n",
       "\n",
       "    .dataframe tbody tr th {\n",
       "        vertical-align: top;\n",
       "    }\n",
       "\n",
       "    .dataframe thead th {\n",
       "        text-align: right;\n",
       "    }\n",
       "</style>\n",
       "<table border=\"1\" class=\"dataframe\">\n",
       "  <thead>\n",
       "    <tr style=\"text-align: right;\">\n",
       "      <th></th>\n",
       "      <th>sepal-length</th>\n",
       "      <th>sepal-width</th>\n",
       "      <th>petal-length</th>\n",
       "      <th>petal-width</th>\n",
       "      <th>class</th>\n",
       "    </tr>\n",
       "  </thead>\n",
       "  <tbody>\n",
       "    <tr>\n",
       "      <th>0</th>\n",
       "      <td>5.1</td>\n",
       "      <td>3.5</td>\n",
       "      <td>1.4</td>\n",
       "      <td>0.2</td>\n",
       "      <td>Iris-setosa</td>\n",
       "    </tr>\n",
       "    <tr>\n",
       "      <th>1</th>\n",
       "      <td>4.9</td>\n",
       "      <td>3.0</td>\n",
       "      <td>1.4</td>\n",
       "      <td>0.2</td>\n",
       "      <td>Iris-setosa</td>\n",
       "    </tr>\n",
       "    <tr>\n",
       "      <th>2</th>\n",
       "      <td>4.7</td>\n",
       "      <td>3.2</td>\n",
       "      <td>1.3</td>\n",
       "      <td>0.2</td>\n",
       "      <td>Iris-setosa</td>\n",
       "    </tr>\n",
       "    <tr>\n",
       "      <th>3</th>\n",
       "      <td>4.6</td>\n",
       "      <td>3.1</td>\n",
       "      <td>1.5</td>\n",
       "      <td>0.2</td>\n",
       "      <td>Iris-setosa</td>\n",
       "    </tr>\n",
       "    <tr>\n",
       "      <th>4</th>\n",
       "      <td>5.0</td>\n",
       "      <td>3.6</td>\n",
       "      <td>1.4</td>\n",
       "      <td>0.2</td>\n",
       "      <td>Iris-setosa</td>\n",
       "    </tr>\n",
       "  </tbody>\n",
       "</table>\n",
       "</div>"
      ],
      "text/plain": [
       "   sepal-length  sepal-width  petal-length  petal-width        class\n",
       "0           5.1          3.5           1.4          0.2  Iris-setosa\n",
       "1           4.9          3.0           1.4          0.2  Iris-setosa\n",
       "2           4.7          3.2           1.3          0.2  Iris-setosa\n",
       "3           4.6          3.1           1.5          0.2  Iris-setosa\n",
       "4           5.0          3.6           1.4          0.2  Iris-setosa"
      ]
     },
     "execution_count": 7,
     "metadata": {},
     "output_type": "execute_result"
    }
   ],
   "source": [
    "dataset.head()"
   ]
  },
  {
   "cell_type": "code",
   "execution_count": 12,
   "metadata": {},
   "outputs": [],
   "source": [
    "from sklearn.model_selection import train_test_split\n",
    "from sklearn.svm import SVC\n",
    "from sklearn.pipeline import Pipeline\n",
    "from sklearn.preprocessing import StandardScaler"
   ]
  },
  {
   "cell_type": "code",
   "execution_count": 14,
   "metadata": {},
   "outputs": [
    {
     "name": "stdout",
     "output_type": "stream",
     "text": [
      "Validation accuracy 0.9666666666666667\n"
     ]
    }
   ],
   "source": [
    "SCALER = \"standard\"\n",
    "CLASSIFIER = \"svc\"\n",
    "\n",
    "# Split-out validation dataset\n",
    "array = dataset.values\n",
    "x = array[:,0:4]\n",
    "y = array[:,4]\n",
    "X_train, X_val, y_train, y_val = train_test_split(x, y, test_size=0.20, random_state=1, shuffle=True)\n",
    "\n",
    "# Create model\n",
    "if CLASSIFIER == \"svc\":\n",
    "    model = SVC()\n",
    "elif CLASSIFIER == \"cart\":\n",
    "    model = DecisionTreeClassifier()\n",
    "else:\n",
    "    raise NotImplementedError\n",
    "\n",
    "if SCALER == \"standard\":\n",
    "    clf = Pipeline([('scaler', StandardScaler()), ('classifier', model)])\n",
    "elif SCALER == \"maxmin\":\n",
    "    clf = Pipeline([('scaler', MinMaxScaler()), ('classifier', model)])\n",
    "elif SCALER == None:\n",
    "    clf = model\n",
    "else:\n",
    "    raise NotImplementedError\n",
    "    \n",
    "#Train\n",
    "clf.fit(X_train, y_train)\n",
    "\n",
    "#Test\n",
    "score = clf.score(X_val, y_val)\n",
    "print(\"Validation accuracy\", score)"
   ]
  },
  {
   "cell_type": "code",
   "execution_count": 46,
   "metadata": {},
   "outputs": [
    {
     "name": "stdout",
     "output_type": "stream",
     "text": [
      "(0, 'Owner')\n",
      "((0, 'Owner'), (1, 'Lender'))\n",
      "(0, 'Owner')\n",
      "(1, 'Lender')\n",
      "['owner', 'lender']\n"
     ]
    }
   ],
   "source": [
    "CONTRACTOR_OWNER = 0\n",
    "CONTRACTOR_RENTER = 1\n",
    "\n",
    "POLICY_PLOT_CONTRACTOR = ((CONTRACTOR_OWNER, 'Owner'),\n",
    "                      (CONTRACTOR_RENTER, 'Renter'))\n",
    "\n",
    "POLICY_PLOT_CONTRACTOR_V3 = ((CONTRACTOR_OWNER, 'Owner'),\n",
    "                      (CONTRACTOR_RENTER, 'Lender'))\n",
    "\n",
    "print(POLICY_PLOT_CONTRACTOR_V3[0])\n",
    "print(POLICY_PLOT_CONTRACTOR_V3)\n",
    "status = []\n",
    "for element in POLICY_PLOT_CONTRACTOR_V3:\n",
    "    print(element)\n",
    "    status.append(element[1].lower())\n",
    "    \n",
    "print(status)\n"
   ]
  },
  {
   "cell_type": "code",
   "execution_count": 25,
   "metadata": {},
   "outputs": [
    {
     "data": {
      "text/plain": [
       "[(1, 'Hey'), (1, 'hey'), (3, 'Ne'), (3, 'ne'), (7, 'yo'), (7, 'Yo')]"
      ]
     },
     "execution_count": 25,
     "metadata": {},
     "output_type": "execute_result"
    }
   ],
   "source": [
    "tup = ((3,'Ne'),(7,'yo'),(1,'Hey'),(3,'ne'),(7,'Yo'),(1,'hey'))\n",
    "\n",
    "sorted(tup, key=lambda tup: tup[1].upper())"
   ]
  },
  {
   "cell_type": "code",
   "execution_count": 26,
   "metadata": {},
   "outputs": [
    {
     "data": {
      "text/plain": [
       "[(1, 'Hey'), (3, 'Ne'), (7, 'Yo'), (1, 'hey'), (3, 'ne'), (7, 'yo')]"
      ]
     },
     "execution_count": 26,
     "metadata": {},
     "output_type": "execute_result"
    }
   ],
   "source": [
    "sorted(tup, key=lambda tup: tup[1])"
   ]
  },
  {
   "cell_type": "code",
   "execution_count": null,
   "metadata": {},
   "outputs": [],
   "source": []
  }
 ],
 "metadata": {
  "kernelspec": {
   "display_name": "Python 3 (ipykernel)",
   "language": "python",
   "name": "python3"
  },
  "language_info": {
   "codemirror_mode": {
    "name": "ipython",
    "version": 3
   },
   "file_extension": ".py",
   "mimetype": "text/x-python",
   "name": "python",
   "nbconvert_exporter": "python",
   "pygments_lexer": "ipython3",
   "version": "3.7.12"
  }
 },
 "nbformat": 4,
 "nbformat_minor": 4
}
