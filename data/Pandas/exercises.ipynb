{
 "cells": [
  {
   "cell_type": "code",
   "execution_count": 37,
   "metadata": {},
   "outputs": [],
   "source": [
    "import pandas as pd"
   ]
  },
  {
   "cell_type": "code",
   "execution_count": 3,
   "metadata": {},
   "outputs": [
    {
     "name": "stdout",
     "output_type": "stream",
     "text": [
      "0     2\n",
      "1     4\n",
      "2     6\n",
      "3     8\n",
      "4    10\n",
      "dtype: int64\n"
     ]
    }
   ],
   "source": [
    "# Create pandas serie\n",
    "s = pd.Series([2, 4, 6, 8, 10])\n",
    "print(s)"
   ]
  },
  {
   "cell_type": "code",
   "execution_count": 6,
   "metadata": {},
   "outputs": [
    {
     "name": "stdout",
     "output_type": "stream",
     "text": [
      "<class 'pandas.core.series.Series'>\n",
      "[2, 4, 6, 8, 10]\n",
      "<class 'list'>\n"
     ]
    }
   ],
   "source": [
    "# Convert panda serie to list\n",
    "print(type(s))\n",
    "ps = s.tolist()\n",
    "print(ps)\n",
    "print(type(ps))"
   ]
  },
  {
   "cell_type": "code",
   "execution_count": 8,
   "metadata": {},
   "outputs": [
    {
     "name": "stdout",
     "output_type": "stream",
     "text": [
      "0    2.000000\n",
      "1    1.333333\n",
      "2    1.200000\n",
      "3    1.142857\n",
      "4    1.111111\n",
      "dtype: float64\n",
      "0    1\n",
      "1    1\n",
      "2    1\n",
      "3    1\n",
      "4    1\n",
      "dtype: int64\n",
      "0     2\n",
      "1    12\n",
      "2    30\n",
      "3    56\n",
      "4    90\n",
      "dtype: int64\n",
      "0     3\n",
      "1     7\n",
      "2    11\n",
      "3    15\n",
      "4    19\n",
      "dtype: int64\n"
     ]
    }
   ],
   "source": [
    "# Divide, Substract, Substract, Add 2 series\n",
    "s = pd.Series([2, 4, 6, 8, 10])\n",
    "s2 = pd.Series([1, 3, 5, 7, 9])\n",
    "divide = s / s2\n",
    "print(divide)\n",
    "substract = s - s2\n",
    "print(substract)\n",
    "multiply = s * s2\n",
    "print(multiply)\n",
    "add = s + s2\n",
    "print(add)"
   ]
  },
  {
   "cell_type": "code",
   "execution_count": 10,
   "metadata": {},
   "outputs": [
    {
     "name": "stdout",
     "output_type": "stream",
     "text": [
      "0    False\n",
      "1    False\n",
      "2    False\n",
      "3    False\n",
      "4    False\n",
      "dtype: bool\n",
      "0    True\n",
      "1    True\n",
      "2    True\n",
      "3    True\n",
      "4    True\n",
      "dtype: bool\n",
      "0    False\n",
      "1    False\n",
      "2    False\n",
      "3    False\n",
      "4    False\n",
      "dtype: bool\n"
     ]
    }
   ],
   "source": [
    "# Compare 2 series\n",
    "equals = s == s2\n",
    "print(equals)\n",
    "greater = s > s2\n",
    "print(greater)\n",
    "lower = s < s2\n",
    "print(lower)"
   ]
  },
  {
   "cell_type": "code",
   "execution_count": 12,
   "metadata": {},
   "outputs": [
    {
     "name": "stdout",
     "output_type": "stream",
     "text": [
      "a    100\n",
      "b    200\n",
      "c    300\n",
      "d    400\n",
      "e    800\n",
      "dtype: int64\n"
     ]
    }
   ],
   "source": [
    "# Convert Dictionnary to Pandas series\n",
    "d = {'a': 100, 'b': 200, 'c': 300, 'd': 400, 'e': 800}\n",
    "pds = pd.Series(d)\n",
    "print(pds)"
   ]
  },
  {
   "cell_type": "code",
   "execution_count": 16,
   "metadata": {},
   "outputs": [
    {
     "name": "stdout",
     "output_type": "stream",
     "text": [
      "[10 20 30 40 50]\n",
      "0    10\n",
      "1    20\n",
      "2    30\n",
      "3    40\n",
      "4    50\n",
      "dtype: int64\n"
     ]
    }
   ],
   "source": [
    "# Convert numpy array to Pandas series\n",
    "import numpy as np\n",
    "np_array = np.array([10, 20, 30, 40, 50])\n",
    "print(np_array)\n",
    "pds = pd.Series(np_array)\n",
    "print(pds)"
   ]
  },
  {
   "cell_type": "code",
   "execution_count": 21,
   "metadata": {},
   "outputs": [
    {
     "name": "stdout",
     "output_type": "stream",
     "text": [
      "0       100\n",
      "1       200\n",
      "2    Python\n",
      "3    300.15\n",
      "4        10\n",
      "dtype: object\n",
      "0    100.00\n",
      "1    200.00\n",
      "2       NaN\n",
      "3    300.15\n",
      "4     10.00\n",
      "dtype: float64\n"
     ]
    }
   ],
   "source": [
    "# Convert series to type numeric\n",
    "s = pd.Series([100, 200, \"Python\", 300.15, 10])\n",
    "print(s)\n",
    "converted_s = pd.to_numeric(s, errors='coerce')\n",
    "print(converted_s)"
   ]
  },
  {
   "cell_type": "code",
   "execution_count": 29,
   "metadata": {},
   "outputs": [
    {
     "name": "stdout",
     "output_type": "stream",
     "text": [
      "<class 'pandas.core.series.Series'>\n"
     ]
    }
   ],
   "source": [
    "# Get first column of dataframe as panda series\n",
    "d = {'col1':[78,85,96,80,86], 'col2':[84,94,89,83,86]}\n",
    "df = pd.DataFrame(data=d)\n",
    "# equivalent df.col1\n",
    "s1 = df.iloc[:,0]\n",
    "print(type(s1))"
   ]
  },
  {
   "cell_type": "code",
   "execution_count": 34,
   "metadata": {},
   "outputs": [
    {
     "name": "stdout",
     "output_type": "stream",
     "text": [
      "['100', 200, 'Python', 300.15, '10']\n",
      "<class 'list'>\n",
      "['100' '200' 'Python' '300.15' '10']\n",
      "<class 'numpy.ndarray'>\n"
     ]
    }
   ],
   "source": [
    "s = pd.Series([\"100\", 200, \"Python\", 300.15, \"10\"])\n",
    "s_array = s.tolist()\n",
    "print(s_array)\n",
    "print(type(s_array))\n",
    "s_nparray = np.array(s.values.tolist())\n",
    "print(s_nparray)\n",
    "print(type(s_nparray))"
   ]
  },
  {
   "cell_type": "code",
   "execution_count": 43,
   "metadata": {},
   "outputs": [
    {
     "name": "stdout",
     "output_type": "stream",
     "text": [
      "0      red\n",
      "1    green\n",
      "2    white\n",
      "3      red\n",
      "4    black\n",
      "5     blue\n",
      "dtype: object\n"
     ]
    }
   ],
   "source": [
    "s_l = pd.Series([[\"red\",\"green\",\"white\"],[\"red\",\"black\"],[\"blue\"]])\n",
    "s1 = s_l.apply(pd.Series).stack().reset_index(drop=True)\n",
    "print(s1)"
   ]
  },
  {
   "cell_type": "code",
   "execution_count": 48,
   "metadata": {},
   "outputs": [
    {
     "name": "stdout",
     "output_type": "stream",
     "text": [
      "4        10\n",
      "0       100\n",
      "1       200\n",
      "3    300.15\n",
      "2    Python\n",
      "dtype: object\n"
     ]
    }
   ],
   "source": [
    "s = pd.Series([\"100\", \"200\", \"Python\", \"300.15\", \"10\"])\n",
    "s_sorted = s.sort_values(ascending=True)\n",
    "print(s_sorted)"
   ]
  },
  {
   "cell_type": "code",
   "execution_count": 50,
   "metadata": {},
   "outputs": [
    {
     "name": "stdout",
     "output_type": "stream",
     "text": [
      "0          100\n",
      "1          200\n",
      "2       Python\n",
      "3       300.15\n",
      "4           10\n",
      "0    new_value\n",
      "1           80\n",
      "dtype: object\n"
     ]
    }
   ],
   "source": [
    "# Add data to series\n",
    "s = pd.Series([\"100\", \"200\", \"Python\", \"300.15\", \"10\"])\n",
    "s = s.append(pd.Series([\"new_value\",\"80\"]))\n",
    "print(s)"
   ]
  },
  {
   "cell_type": "code",
   "execution_count": 55,
   "metadata": {},
   "outputs": [
    {
     "name": "stdout",
     "output_type": "stream",
     "text": [
      "1    200\n",
      "2    300\n",
      "dtype: int64\n"
     ]
    }
   ],
   "source": [
    "# Subset based on condition\n",
    "s = pd.Series([100, 200, 300, 10])\n",
    "s_subset = s[s>105]\n",
    "print(s_subset)"
   ]
  },
  {
   "cell_type": "code",
   "execution_count": null,
   "metadata": {},
   "outputs": [],
   "source": []
  }
 ],
 "metadata": {
  "kernelspec": {
   "display_name": "Python 3 (ipykernel)",
   "language": "python",
   "name": "python3"
  },
  "language_info": {
   "codemirror_mode": {
    "name": "ipython",
    "version": 3
   },
   "file_extension": ".py",
   "mimetype": "text/x-python",
   "name": "python",
   "nbconvert_exporter": "python",
   "pygments_lexer": "ipython3",
   "version": "3.7.12"
  }
 },
 "nbformat": 4,
 "nbformat_minor": 4
}
