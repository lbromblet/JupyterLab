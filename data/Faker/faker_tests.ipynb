{
 "cells": [
  {
   "cell_type": "code",
   "execution_count": 2,
   "id": "0290d3cc-abe3-4e1d-9e7d-a55679ae6d55",
   "metadata": {},
   "outputs": [],
   "source": [
    "# https://faker.readthedocs.io/en/master/providers/faker.providers.lorem.html\n",
    "import faker\n",
    "from faker import Faker\n",
    "\n",
    "faker = Faker()  # Default en_US provider"
   ]
  },
  {
   "cell_type": "code",
   "execution_count": 8,
   "id": "07c43660-8f14-4efb-882e-a46707240022",
   "metadata": {},
   "outputs": [
    {
     "name": "stdout",
     "output_type": "stream",
     "text": [
      "Montenegro\n"
     ]
    }
   ],
   "source": [
    "print(faker.country())"
   ]
  },
  {
   "cell_type": "code",
   "execution_count": 9,
   "id": "d0f4e14a-049a-4d13-ba94-dfb0af3b1ab6",
   "metadata": {},
   "outputs": [
    {
     "name": "stdout",
     "output_type": "stream",
     "text": [
      "ML\n"
     ]
    }
   ],
   "source": [
    "print(faker.country_code())"
   ]
  },
  {
   "cell_type": "code",
   "execution_count": 11,
   "id": "f0e99a95-032b-48ab-b324-34ded049bf41",
   "metadata": {},
   "outputs": [
    {
     "name": "stdout",
     "output_type": "stream",
     "text": [
      "CY\n"
     ]
    }
   ],
   "source": [
    "print(faker.country_code(representation=\"alpha-2\"))"
   ]
  },
  {
   "cell_type": "code",
   "execution_count": 13,
   "id": "2397e037-3611-4607-8cc7-338f5df3251c",
   "metadata": {},
   "outputs": [
    {
     "name": "stdout",
     "output_type": "stream",
     "text": [
      "STP\n"
     ]
    }
   ],
   "source": [
    "print(faker.country_code(representation=\"alpha-3\"))"
   ]
  },
  {
   "cell_type": "code",
   "execution_count": 14,
   "id": "af25413f-fea1-4a89-b4d8-19a123b1c22f",
   "metadata": {},
   "outputs": [
    {
     "name": "stdout",
     "output_type": "stream",
     "text": [
      "Parrish-Ellis\n"
     ]
    }
   ],
   "source": [
    "print(faker.company())"
   ]
  },
  {
   "cell_type": "code",
   "execution_count": 15,
   "id": "a60a8ee3-6aaf-4599-9a06-5046b484a4fc",
   "metadata": {},
   "outputs": [
    {
     "name": "stdout",
     "output_type": "stream",
     "text": [
      "glass\n"
     ]
    }
   ],
   "source": [
    "print(faker.word())"
   ]
  },
  {
   "cell_type": "code",
   "execution_count": 4,
   "id": "f7404861-b678-413a-ac61-b0fc48d4f555",
   "metadata": {},
   "outputs": [
    {
     "name": "stdout",
     "output_type": "stream",
     "text": [
      "Africa/Ndjamena\n"
     ]
    }
   ],
   "source": [
    "print(faker.timezone())"
   ]
  },
  {
   "cell_type": "code",
   "execution_count": null,
   "id": "523e517d-78e6-4e54-987b-f340b6f22402",
   "metadata": {},
   "outputs": [],
   "source": []
  }
 ],
 "metadata": {
  "kernelspec": {
   "display_name": "Python 3 (ipykernel)",
   "language": "python",
   "name": "python3"
  },
  "language_info": {
   "codemirror_mode": {
    "name": "ipython",
    "version": 3
   },
   "file_extension": ".py",
   "mimetype": "text/x-python",
   "name": "python",
   "nbconvert_exporter": "python",
   "pygments_lexer": "ipython3",
   "version": "3.7.12"
  }
 },
 "nbformat": 4,
 "nbformat_minor": 5
}
