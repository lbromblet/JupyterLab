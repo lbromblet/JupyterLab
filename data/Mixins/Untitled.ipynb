{
 "cells": [
  {
   "cell_type": "markdown",
   "id": "f26865d8-87e5-454c-924e-0635479f663a",
   "metadata": {},
   "source": [
    "A single class can inherit and make use of multiple mixins. One crucial point to note is that the mixins must always go to the left of the 'base' class, i.e the main parent class should always be the right-most in the list of superclasses."
   ]
  },
  {
   "cell_type": "code",
   "execution_count": 3,
   "id": "39ca3c08-538c-420e-8370-1ab7b36e510d",
   "metadata": {},
   "outputs": [],
   "source": [
    "class PlainPizza:\n",
    "\n",
    "    def __init__(self):\n",
    "        self.toppings = []\n",
    "    def __str__(self):\n",
    "        return 'Pizza : {}'.format(' '.join(self.toppings))\n",
    "\n",
    "class OlivesMixin:\n",
    "\n",
    "    def add_olives(self):\n",
    "        print(\"Adding olives!\")\n",
    "        self.toppings += ['olives']\n",
    "\n",
    "\n",
    "class SistersPizza(OlivesMixin, PlainPizza):\n",
    "\n",
    "    def prepare_pizza(self):\n",
    "        self.add_olives()"
   ]
  },
  {
   "cell_type": "code",
   "execution_count": 7,
   "id": "adae593f-a7db-486d-b16d-71cae957e317",
   "metadata": {},
   "outputs": [
    {
     "name": "stdout",
     "output_type": "stream",
     "text": [
      "Adding olives!\n",
      "Adding olives!\n",
      "Adding olives!\n",
      "Pizza : olives olives olives\n"
     ]
    }
   ],
   "source": [
    "sistersPizza = SistersPizza()\n",
    "sistersPizza.add_olives()\n",
    "sistersPizza.add_olives()\n",
    "sistersPizza.add_olives()\n",
    "print(sistersPizza)"
   ]
  },
  {
   "cell_type": "code",
   "execution_count": 12,
   "id": "602cca23-0bc0-44e8-939f-142a34aa6915",
   "metadata": {},
   "outputs": [
    {
     "name": "stdout",
     "output_type": "stream",
     "text": [
      "<class 'list'>\n"
     ]
    }
   ],
   "source": [
    "import datetime\n",
    "list_years = [r for r in range(1984, datetime.date.today().year+1)]\n",
    "print(type(list_years))"
   ]
  },
  {
   "cell_type": "code",
   "execution_count": null,
   "id": "039e0b0a-0f04-4539-b9b5-2b8903341445",
   "metadata": {},
   "outputs": [],
   "source": []
  }
 ],
 "metadata": {
  "kernelspec": {
   "display_name": "Python 3 (ipykernel)",
   "language": "python",
   "name": "python3"
  },
  "language_info": {
   "codemirror_mode": {
    "name": "ipython",
    "version": 3
   },
   "file_extension": ".py",
   "mimetype": "text/x-python",
   "name": "python",
   "nbconvert_exporter": "python",
   "pygments_lexer": "ipython3",
   "version": "3.7.12"
  }
 },
 "nbformat": 4,
 "nbformat_minor": 5
}
