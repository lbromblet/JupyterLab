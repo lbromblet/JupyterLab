{
 "cells": [
  {
   "cell_type": "code",
   "execution_count": 9,
   "id": "5facc7ca-1cd0-462f-a481-9f3285f131c9",
   "metadata": {},
   "outputs": [
    {
     "name": "stdout",
     "output_type": "stream",
     "text": [
      "move along from Montpellier to Luxembourg\n",
      "move along from Paris to Marseille\n"
     ]
    }
   ],
   "source": [
    "class Vehicle(object):\n",
    "   \"\"\"A generic vehicle class.\"\"\"\n",
    "\n",
    "   def __init__(self, position):\n",
    "       self.position = position\n",
    "\n",
    "   def travel(self, destination):\n",
    "       print(\"move along from \" + str(self.position) + \" to \"+str(destination))\n",
    "\n",
    "class Boat(Vehicle):\n",
    "   ...\n",
    "\n",
    "class Plane(Vehicle):\n",
    "   ...\n",
    "\n",
    "class RadioUserMixin(object):\n",
    "   def __init__(self):\n",
    "       self.radio = \"MyRadio\"\n",
    "\n",
    "   def play_song_on_station(self, station):\n",
    "       print(\"playing song station : \" + str(station))\n",
    "\n",
    "class Car(Vehicle, RadioUserMixin):\n",
    "   ...\n",
    "\n",
    "class Clock(Vehicle, RadioUserMixin):\n",
    "   ...\n",
    "\n",
    "myBoat = Boat(position=\"Montpellier\")\n",
    "myBoat.travel(\"Luxembourg\")\n",
    "myCar = Car(position=\"Paris\")\n",
    "myCar.travel(\"Marseille\")"
   ]
  },
  {
   "cell_type": "code",
   "execution_count": 10,
   "id": "bf38559c-70b9-417a-9928-58d1126092b4",
   "metadata": {},
   "outputs": [
    {
     "name": "stdout",
     "output_type": "stream",
     "text": [
      "playin song station : 98.7\n"
     ]
    }
   ],
   "source": [
    "myCar.play_song_on_station(98.7)"
   ]
  },
  {
   "cell_type": "code",
   "execution_count": 17,
   "id": "6e741ecb-4ac1-40a3-b7d8-58d02b7a924f",
   "metadata": {},
   "outputs": [
    {
     "ename": "AttributeError",
     "evalue": "'Boat' object has no attribute 'play_song_on_station'",
     "output_type": "error",
     "traceback": [
      "\u001b[0;31m---------------------------------------------------------------------------\u001b[0m",
      "\u001b[0;31mAttributeError\u001b[0m                            Traceback (most recent call last)",
      "\u001b[0;32m/tmp/ipykernel_200/2863832688.py\u001b[0m in \u001b[0;36m<module>\u001b[0;34m\u001b[0m\n\u001b[1;32m      1\u001b[0m \u001b[0;31m# machine boat and planes can't play song\u001b[0m\u001b[0;34m\u001b[0m\u001b[0;34m\u001b[0m\u001b[0;34m\u001b[0m\u001b[0m\n\u001b[0;32m----> 2\u001b[0;31m \u001b[0mmyBoat\u001b[0m\u001b[0;34m.\u001b[0m\u001b[0mplay_song_on_station\u001b[0m\u001b[0;34m(\u001b[0m\u001b[0;36m107.8\u001b[0m\u001b[0;34m)\u001b[0m\u001b[0;34m\u001b[0m\u001b[0;34m\u001b[0m\u001b[0m\n\u001b[0m",
      "\u001b[0;31mAttributeError\u001b[0m: 'Boat' object has no attribute 'play_song_on_station'"
     ]
    }
   ],
   "source": [
    "# machine boat and planes can't play song\n",
    "myBoat.play_song_on_station(107.8)"
   ]
  },
  {
   "cell_type": "code",
   "execution_count": 18,
   "id": "4db03fea-a862-4d61-9802-863b3e1f9e01",
   "metadata": {},
   "outputs": [
    {
     "name": "stdout",
     "output_type": "stream",
     "text": [
      "playin song station : 107.8\n"
     ]
    }
   ],
   "source": [
    "myClock = Clock(position=myCar.position)\n",
    "myClock.play_song_on_station(107.8)"
   ]
  },
  {
   "cell_type": "code",
   "execution_count": 21,
   "id": "7056dfe5-0ebf-4f8c-9fc7-5773e6fb3623",
   "metadata": {},
   "outputs": [
    {
     "name": "stdout",
     "output_type": "stream",
     "text": [
      "Base\n"
     ]
    }
   ],
   "source": [
    "# If you do override methods or properties in your mixins this can lead to unexpected results because in Python the class hierarchy is defined right to left.\n",
    "class Mixin1(object):\n",
    "    def test(self):\n",
    "        print(\"Mixin1\")\n",
    "\n",
    "class Mixin2(object):\n",
    "    def test(self):\n",
    "        print(\"Mixin2\")\n",
    "\n",
    "class BaseClass(object):\n",
    "    def test(self):\n",
    "        print(\"Base\")\n",
    "\n",
    "class MyClass(BaseClass, Mixin1, Mixin2):\n",
    "    pass\n",
    "x = MyClass()\n",
    "x.test()"
   ]
  },
  {
   "cell_type": "code",
   "execution_count": null,
   "id": "7001ea5a-fce1-4be5-b219-e2fcc150387e",
   "metadata": {},
   "outputs": [],
   "source": []
  }
 ],
 "metadata": {
  "kernelspec": {
   "display_name": "Python 3 (ipykernel)",
   "language": "python",
   "name": "python3"
  },
  "language_info": {
   "codemirror_mode": {
    "name": "ipython",
    "version": 3
   },
   "file_extension": ".py",
   "mimetype": "text/x-python",
   "name": "python",
   "nbconvert_exporter": "python",
   "pygments_lexer": "ipython3",
   "version": "3.7.12"
  }
 },
 "nbformat": 4,
 "nbformat_minor": 5
}
