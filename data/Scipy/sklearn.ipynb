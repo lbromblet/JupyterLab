{
 "cells": [
  {
   "cell_type": "code",
   "execution_count": 59,
   "id": "a0de96e6-4d29-4221-9ee8-6cdc61075609",
   "metadata": {},
   "outputs": [],
   "source": [
    "# https://www.kaggle.com/jamieleech/random-forest-time-series-forecasting/notebook\n",
    "import numpy as np\n",
    "import pandas as pd\n",
    "import matplotlib.pyplot as plt\n",
    "from sklearn.ensemble import RandomForestRegressor\n",
    "from sklearn.ensemble import RandomForestRegressor"
   ]
  },
  {
   "cell_type": "code",
   "execution_count": 47,
   "id": "e01414b9-e2eb-4a20-9539-15abd532e6ee",
   "metadata": {},
   "outputs": [],
   "source": [
    "# transform a time series dataset into a supervised learning dataset\n",
    "def series_to_supervised(data, n_in=1, n_out=1, dropnan=True):\n",
    "    n_vars = 1 if type(data) is list else data.shape[1]\n",
    "    df = pd.DataFrame(data)\n",
    "    cols = list()\n",
    "    # input sequence (t-n, ... t-1)\n",
    "    for i in range(n_in, 0, -1):\n",
    "        cols.append(df.shift(i))\n",
    "    # forecast sequence (t, t+1, ... t+n)\n",
    "    for i in range(0, n_out):\n",
    "        cols.append(df.shift(-i))\n",
    "    # put it all together\n",
    "    agg = pd.concat(cols, axis=1)\n",
    "    # drop rows with NaN values\n",
    "    if dropnan:\n",
    "        agg.dropna(inplace=True)\n",
    "    return agg.values"
   ]
  },
  {
   "cell_type": "code",
   "execution_count": 48,
   "id": "5335ddb6-2e03-4a77-ac2f-491b212e146a",
   "metadata": {},
   "outputs": [],
   "source": [
    "# split a univariate dataset into train/test sets\n",
    "def train_test_split(data, n_test):\n",
    "    return data[:-n_test, :], data[-n_test:, :]"
   ]
  },
  {
   "cell_type": "code",
   "execution_count": 52,
   "id": "e60194be-e413-4553-9af3-592c9578a8c5",
   "metadata": {},
   "outputs": [],
   "source": [
    "# fit an random forest model and make a one step prediction\n",
    "def random_forest_forecast(train, testX):\n",
    "    # transform list into array\n",
    "    train = np.asarray(train)\n",
    "    # split into input and output columns\n",
    "    trainX, trainy = train[:, :-1], train[:, -1]\n",
    "    # fit model\n",
    "    model = RandomForestRegressor(n_estimators=1000)\n",
    "    model.fit(trainX, trainy)\n",
    "    # make a one-step prediction\n",
    "    yhat = model.predict([testX])\n",
    "    return yhat[0]"
   ]
  },
  {
   "cell_type": "code",
   "execution_count": 53,
   "id": "f47d2f2d-f998-4dd9-9090-9af6e2c455ab",
   "metadata": {},
   "outputs": [],
   "source": [
    "from sklearn.metrics import mean_absolute_error\n",
    "# walk-forward validation for univariate data\n",
    "def walk_forward_validation(data, n_test):\n",
    "    predictions = list()\n",
    "    # split dataset\n",
    "    train, test = train_test_split(data, n_test)\n",
    "    # seed history with training dataset\n",
    "    history = [x for x in train]\n",
    "    # step over each time-step in the test set\n",
    "    for i in range(len(test)):\n",
    "        # split test row into input and output columns\n",
    "        testX, testy = test[i, :-1], test[i, -1]\n",
    "        # fit model on history and make a prediction\n",
    "        yhat = random_forest_forecast(history, testX)\n",
    "        # store forecast in list of predictions\n",
    "        predictions.append(yhat)\n",
    "        # add actual observation to history for the next loop\n",
    "        history.append(test[i])\n",
    "        # summarize progress\n",
    "        print('>expected=%.1f, predicted=%.1f' % (testy, yhat))\n",
    "    # estimate prediction error\n",
    "    error = mean_absolute_error(test[:, -1], predictions)\n",
    "    return error, test[:, -1], predictions"
   ]
  },
  {
   "cell_type": "code",
   "execution_count": 56,
   "id": "90600503-d542-4fb4-9779-4ea08401a01d",
   "metadata": {},
   "outputs": [
    {
     "name": "stdout",
     "output_type": "stream",
     "text": [
      ">expected=42.0, predicted=44.9\n",
      ">expected=53.0, predicted=44.3\n",
      ">expected=39.0, predicted=41.9\n",
      ">expected=40.0, predicted=38.3\n",
      ">expected=38.0, predicted=42.8\n",
      ">expected=44.0, predicted=47.3\n",
      ">expected=34.0, predicted=42.5\n",
      ">expected=37.0, predicted=36.7\n",
      ">expected=52.0, predicted=38.7\n",
      ">expected=48.0, predicted=41.8\n",
      ">expected=55.0, predicted=43.7\n",
      ">expected=50.0, predicted=45.3\n",
      "MAE: 5.717\n"
     ]
    }
   ],
   "source": [
    "series = pd.read_csv('data/daily-total-female-births.csv', header=0, index_col=0)\n",
    "values = series.values\n",
    "# transform the time series data into supervised learning\n",
    "data = series_to_supervised(values, n_in=6)\n",
    "# evaluate\n",
    "mae, y, yhat = walk_forward_validation(data, 12)\n",
    "print('MAE: %.3f' % mae)"
   ]
  },
  {
   "cell_type": "code",
   "execution_count": 58,
   "id": "a67ba97f-940a-4e20-a3c1-6d175966df93",
   "metadata": {},
   "outputs": [
    {
     "data": {
      "image/png": "[encoded data removed]",
      "text/plain": [
       "<Figure size 432x288 with 1 Axes>"
      ]
     },
     "metadata": {
      "needs_background": "light"
     },
     "output_type": "display_data"
    }
   ],
   "source": [
    "plt.plot(y, label='Expected')\n",
    "plt.plot(yhat, label='Predicted')\n",
    "plt.legend()\n",
    "plt.show()"
   ]
  },
  {
   "cell_type": "code",
   "execution_count": null,
   "id": "abebf194-50d6-43a0-ac39-9cc47da00eb7",
   "metadata": {},
   "outputs": [],
   "source": []
  }
 ],
 "metadata": {
  "kernelspec": {
   "display_name": "Python 3 (ipykernel)",
   "language": "python",
   "name": "python3"
  },
  "language_info": {
   "codemirror_mode": {
    "name": "ipython",
    "version": 3
   },
   "file_extension": ".py",
   "mimetype": "text/x-python",
   "name": "python",
   "nbconvert_exporter": "python",
   "pygments_lexer": "ipython3",
   "version": "3.7.12"
  }
 },
 "nbformat": 4,
 "nbformat_minor": 5
}
