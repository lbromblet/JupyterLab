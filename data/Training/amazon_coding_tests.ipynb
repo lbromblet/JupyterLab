{
 "cells": [
  {
   "cell_type": "code",
   "execution_count": 1,
   "id": "668bc2a0-7ede-4fa2-951e-f00241bca9ed",
   "metadata": {},
   "outputs": [],
   "source": [
    "# https://www.educative.io/blog/crack-amazon-coding-interview-questions"
   ]
  },
  {
   "cell_type": "code",
   "execution_count": 19,
   "id": "d42a5081-f10b-4e76-afc9-ba4ad1165305",
   "metadata": {},
   "outputs": [
    {
     "name": "stdout",
     "output_type": "stream",
     "text": [
      "6.0\n"
     ]
    }
   ],
   "source": [
    "def find_missing(input):\n",
    "    sum_input = sum(input)\n",
    "    n_max = max(input) + 1\n",
    "    input_full = range(1, n_max)\n",
    "    actual_sum = sum(input_full)\n",
    "    \n",
    "    n = len(input) + 1\n",
    "    actual_sum = (n * ( n + 1 ) ) / 2\n",
    "    return actual_sum - sum_input\n",
    "\n",
    "missing = find_missing([3, 7, 1, 2, 8, 4, 5])\n",
    "print(missing)"
   ]
  },
  {
   "cell_type": "code",
   "execution_count": 32,
   "id": "324e42d9-1c46-4a36-87bf-9278c0e577c6",
   "metadata": {},
   "outputs": [
    {
     "name": "stdout",
     "output_type": "stream",
     "text": [
      "8 - 7\n",
      "True\n"
     ]
    }
   ],
   "source": [
    "def find_sum_of_two(A, val):\n",
    "    hashset = []\n",
    "    for e in A:\n",
    "        if (val-e) in hashset:\n",
    "            print('{} - {}'.format(val, e))\n",
    "            return True;\n",
    "        hashset.append(e)\n",
    "    return;\n",
    "\n",
    "found = find_sum_of_two([2, 1, 8, 4, 7, 3],8)\n",
    "print(found)"
   ]
  },
  {
   "cell_type": "code",
   "execution_count": 24,
   "id": "a9daa5cb-8622-4b0f-9e06-44099b4ec28f",
   "metadata": {},
   "outputs": [
    {
     "name": "stdout",
     "output_type": "stream",
     "text": [
      "4 -> 8 -> 15 -> 19 -> 22 -> None\n",
      "7 -> 9 -> 10 -> 16 -> None\n",
      "4 -> 7 -> 8 -> 9 -> 10 -> 15 -> 16 -> 19 -> 22 -> None\n"
     ]
    }
   ],
   "source": [
    "class Node:\n",
    "    def __init__(self, data):\n",
    "        self.data = data\n",
    "        self.next = None\n",
    "\n",
    "    def __repr__(self):\n",
    "        return self.data\n",
    "\n",
    "class LinkedList:\n",
    "    def __init__(self, nodes=None):\n",
    "        self.head = None\n",
    "        if nodes is not None:\n",
    "            node = Node(data=str(nodes.pop(0)))\n",
    "            self.head = node\n",
    "            for elem in nodes:\n",
    "                node.next = Node(data=str(elem))\n",
    "                node = node.next\n",
    "            \n",
    "    def __repr__(self):\n",
    "        node = self.head\n",
    "        nodes = []\n",
    "        while node is not None:\n",
    "            nodes.append(node.data)\n",
    "            node = node.next\n",
    "        return \" -> \".join(nodes)\n",
    "    \n",
    "    def __iter__(self):\n",
    "        node = self.head\n",
    "        print('<iter')\n",
    "        while node is not None:\n",
    "            print(node)\n",
    "            yield node\n",
    "            node = node.next\n",
    "        print('iter>')\n",
    "            \n",
    "    def add_last(self, node):\n",
    "        if self.head is None:\n",
    "            self.head = node\n",
    "            return\n",
    "        for current_node in self:\n",
    "            pass\n",
    "        current_node.next = node\n",
    "    \n",
    "def merge_sorted(head1, head2):\n",
    "    # if both lists are empty then merged list is also empty\n",
    "    # if one of the lists is empty then other is the merged list\n",
    "    if head1 == None:\n",
    "        return head2\n",
    "    elif head2 == None:\n",
    "        return head1\n",
    "    \n",
    "    mergedHead = None;\n",
    "    if head1.data <= head2.data:\n",
    "        mergedHead = head1\n",
    "        head1 = head1.next\n",
    "    else:\n",
    "        mergedHead = head2\n",
    "        head2 = head2.next\n",
    "    \n",
    "    mergedTail = Node(data=mergedHead.data)\n",
    "    llmerged=LinkedList()\n",
    "    llmerged.head = mergedTail\n",
    "    while head1.data != 'None' and head2.data != 'None':\n",
    "        temp = None\n",
    "        if int(head1.data) <= int(head2.data):\n",
    "            temp = head1.data\n",
    "            head1 = head1.next\n",
    "        else:\n",
    "            temp = head2.data\n",
    "            head2 = head2.next\n",
    "        newMergedTail = Node(data=temp)\n",
    "        mergedTail.next = newMergedTail\n",
    "        mergedTail = newMergedTail\n",
    "        \n",
    "    if head1 != None:\n",
    "        mergedTail.next = head1\n",
    "    elif head2 != None:\n",
    "        mergedTail.next = head2\n",
    "    return llmerged\n",
    "\n",
    "ll1=LinkedList([4,8,15,19,22,None])\n",
    "ll2=LinkedList([7,9,10,16,None])\n",
    "head1 = ll1.head\n",
    "head2 = ll2.head\n",
    "merge_sorted = merge_sorted(head1,head2)\n",
    "print(ll1)\n",
    "print(ll2)\n",
    "print(merge_sorted)"
   ]
  },
  {
   "cell_type": "code",
   "execution_count": 43,
   "id": "d6c82c66-a04e-4ecf-a3a3-b42db022d4d5",
   "metadata": {},
   "outputs": [
    {
     "name": "stdout",
     "output_type": "stream",
     "text": [
      "<__main__.Node object at 0x7fdf1d5100d0>\n",
      "<class '__main__.Node'>\n",
      "<__main__.Node object at 0x7fdf1d5100d0> \n"
     ]
    }
   ],
   "source": [
    "from collections import deque\n",
    "# Using two queues\n",
    "\n",
    "def level_order_traversal(root):\n",
    "    if root == None:\n",
    "        return\n",
    "    result = \"\"\n",
    "    queues = [deque(), deque()]\n",
    "\n",
    "    current_queue = queues[0]\n",
    "    next_queue = queues[1]\n",
    "  \n",
    "    current_queue.append(root)\n",
    "    level_number = 0\n",
    "\n",
    "    while current_queue:\n",
    "        temp = current_queue.popleft()\n",
    "        result += str(temp) + \" \"\n",
    "\n",
    "        if temp.left != None:\n",
    "            next_queue.append(temp.left)\n",
    "\n",
    "        if temp.right != None:\n",
    "            next_queue.append(temp.right)\n",
    "\n",
    "        if not current_queue:\n",
    "            level_number += 1\n",
    "            current_queue = queues[level_number % 2]\n",
    "            next_queue = queues[(level_number + 1) % 2]\n",
    "    return result\n",
    "\n",
    "root = 100\n",
    "node = Node(data=root)\n",
    "llist = deque([node])\n",
    "\n",
    "print(level_order_traversal(node))"
   ]
  },
  {
   "cell_type": "code",
   "execution_count": 31,
   "id": "07a69c70-a1ec-4584-9270-3afe27205e82",
   "metadata": {},
   "outputs": [
    {
     "name": "stdout",
     "output_type": "stream",
     "text": [
      "[10, 14, 19, 27, 31, 35, 42]\n",
      "[27, 14, 10, 19, 35, 31, 42]\n",
      "[10, 19, 14, 31, 42, 35, 27]\n",
      "{0: [27], 1: [14, 35], 2: [10, 19, 31, 42]}\n"
     ]
    }
   ],
   "source": [
    "class Node:\n",
    "    def __init__(self, data):\n",
    "        self.left = None\n",
    "        self.right = None\n",
    "        self.data = data\n",
    "        \n",
    "    # Print the Tree\n",
    "    def PrintTree(self):\n",
    "        if self.left:\n",
    "            self.left.PrintTree()\n",
    "            print( self.data),\n",
    "        if self.right:\n",
    "            self.right.PrintTree()\n",
    "        \n",
    "    def insert(self, data):\n",
    "    # Compare the new value with the parent node\n",
    "        if self.data:\n",
    "            if data < self.data:\n",
    "                if self.left is None:\n",
    "                    self.left = Node(data)\n",
    "                else:\n",
    "                    self.left.insert(data)\n",
    "            elif data > self.data:\n",
    "                if self.right is None:\n",
    "                    self.right = Node(data)\n",
    "                else:\n",
    "                    self.right.insert(data)\n",
    "        else:\n",
    "            self.data = data\n",
    "            \n",
    "    def inorderTraversal(self, root):\n",
    "        res = []\n",
    "        if root:\n",
    "            res = self.inorderTraversal(root.left)\n",
    "            res.append(root.data)\n",
    "            res = res + self.inorderTraversal(root.right)\n",
    "        return res\n",
    "    \n",
    "    # Preorder traversal\n",
    "    # Root -> Left ->Right\n",
    "    def PreorderTraversal(self, root):\n",
    "        res = []\n",
    "        if root:\n",
    "            res.append(root.data)\n",
    "            res = res + self.PreorderTraversal(root.left)\n",
    "            res = res + self.PreorderTraversal(root.right)\n",
    "        return res\n",
    "    \n",
    "    # Postorder traversal\n",
    "    # Left ->Right -> Root\n",
    "    def PostorderTraversal(self, root):\n",
    "        res = []\n",
    "        if root:\n",
    "            res = self.PostorderTraversal(root.left)\n",
    "            res = res + self.PostorderTraversal(root.right)\n",
    "            res.append(root.data)\n",
    "        return res\n",
    "\n",
    "    # Levelorder traversal\n",
    "    # Level 1 -> Level 2 -> Level 3\n",
    "    def LevelorderTraversal(self, root):\n",
    "        level = 0\n",
    "        res = {}\n",
    "        if root:\n",
    "            current_queue = []\n",
    "            current_queue.append(root)\n",
    "            next_queue = []\n",
    "            res[level] = []\n",
    "            while current_queue:\n",
    "                temp = current_queue.pop(0)\n",
    "                res[level].append(temp.data)\n",
    "                \n",
    "                if temp.left != None:\n",
    "                    next_queue.append(temp.left)\n",
    "\n",
    "                if temp.right != None:\n",
    "                    next_queue.append(temp.right)\n",
    "                \n",
    "                if not current_queue and next_queue:\n",
    "                    level += 1\n",
    "                    res[level] = []\n",
    "                    current_queue = next_queue\n",
    "                    next_queue = []\n",
    "            \n",
    "        return res\n",
    "root = Node(27)\n",
    "root.insert(14)\n",
    "root.insert(35)\n",
    "root.insert(10)\n",
    "root.insert(19)\n",
    "root.insert(31)\n",
    "root.insert(42)\n",
    "print(root.inorderTraversal(root))  \n",
    "print(root.PreorderTraversal(root))  \n",
    "print(root.PostorderTraversal(root))\n",
    "print(root.LevelorderTraversal(root))\n",
    "root = Node(15);\n",
    "root.left = Node(10);\n",
    "root.right = Node(20);\n",
    "root.left.left = Node(8);\n",
    "root.left.right = Node(12);\n",
    "root.right.left = Node(16);\n",
    "root.right.right = Node(25);\n",
    "print(root.LevelorderTraversal(root))"
   ]
  },
  {
   "cell_type": "code",
   "execution_count": 68,
   "id": "6d919802-96ee-439f-a3cb-21704d46e391",
   "metadata": {},
   "outputs": [
    {
     "name": "stdout",
     "output_type": "stream",
     "text": [
      "True\n"
     ]
    }
   ],
   "source": [
    "import sys\n",
    "\n",
    "# The left subtree of a node contains only nodes with keys less than the node’s key.\n",
    "# The right subtree of a node contains only nodes with keys greater than the node’s key.\n",
    "# Both the left and right subtrees must also be binary search trees.\n",
    "\n",
    "def is_bst_rec(node, min_value, max_value):\n",
    "    \n",
    "    # An empty tree is BST\n",
    "    if node == None:\n",
    "        return True\n",
    "    \n",
    "    # False if this node violates min/max constraint\n",
    "    if node.data < min_value or node.data > max_value:\n",
    "        return False\n",
    "    \n",
    "    # Otherwise check the subtrees recursively\n",
    "    # tightening the min or max constraint\n",
    "    return is_bst_rec(node.left, min_value, node.data) and is_bst_rec(node.right, node.data, max_value)\n",
    "\n",
    "def is_bst(root):\n",
    "    return is_bst_rec(root, -sys.maxsize - 1, sys.maxsize)\n",
    "\n",
    "root = Node(15);\n",
    "root.left = Node(10);\n",
    "root.right = Node(16);\n",
    "root.left.left = Node(8);\n",
    "root.left.right = Node(12);\n",
    "root.right.left = Node(15);\n",
    "root.right.right = Node(17);\n",
    "\n",
    "print(is_bst(root))"
   ]
  },
  {
   "cell_type": "code",
   "execution_count": 99,
   "id": "0b4d7806-da93-4917-a359-43c0d710e131",
   "metadata": {},
   "outputs": [
    {
     "data": {
      "text/plain": [
       "True"
      ]
     },
     "execution_count": 99,
     "metadata": {},
     "output_type": "execute_result"
    }
   ],
   "source": [
    "def can_segment_string(s, dictionary):\n",
    "    for i in range(1, len(s) + 1):\n",
    "        first = s[0:i]\n",
    "        if first in dictionary:\n",
    "            second = s[i:]\n",
    "            if not second or second in dictionary or can_segment_string(second, dictionary):\n",
    "                return True\n",
    "    return False\n",
    "\n",
    "can_segment_string('applepieapplepie',{'pear', 'apple', 'pie', 'peach'})"
   ]
  },
  {
   "cell_type": "code",
   "execution_count": 138,
   "id": "2c84ce54-6aac-478a-b2fd-05231aca79ab",
   "metadata": {},
   "outputs": [
    {
     "name": "stdout",
     "output_type": "stream",
     "text": [
      "Hello World !\n",
      "! World Hello\n"
     ]
    }
   ],
   "source": [
    "def str_rev(str, start, end):\n",
    "    if str == None or len(str) < 2:\n",
    "        return\n",
    "    \n",
    "    str_list = list(str)\n",
    "\n",
    "    while start < end:\n",
    "        temp = str[start]\n",
    "        str_list[start] = str[end]\n",
    "        str_list[end] = temp\n",
    "\n",
    "        start += 1\n",
    "        end -= 1\n",
    "    return ''.join(str_list)\n",
    "\n",
    "\n",
    "def reverse_words(sentence):\n",
    "    str_len = len(sentence)\n",
    "    sentence = str_rev(sentence, 0, str_len - 1)\n",
    "    \n",
    "    start = 0\n",
    "    end = 0\n",
    "    sentence_list = list(sentence)\n",
    "    \n",
    "    while sentence_list:\n",
    "        sentence_list.pop()\n",
    "        \n",
    "        # find the  start index of a word while skipping spaces.\n",
    "        while start < len(sentence) and sentence[start] == ' ':\n",
    "            sentence_list.pop()\n",
    "            start += 1\n",
    "\n",
    "        # find the end index of the word.\n",
    "        end = start + 1\n",
    "        while end < str_len and sentence[end] != ' ' and sentence[end] != '\\0':\n",
    "            sentence_list.pop()\n",
    "            end += 1\n",
    "\n",
    "        # let's reverse the word in-place.\n",
    "        sentence = str_rev(sentence, start, end - 1)\n",
    "        start = end\n",
    "\n",
    "    return sentence\n",
    "\n",
    "sentence = \"Hello World !\"\n",
    "str_len = len(sentence)\n",
    "print(sentence)\n",
    "print(reverse_words(sentence))"
   ]
  },
  {
   "cell_type": "code",
   "execution_count": 168,
   "id": "27b989a9-ba8c-44e8-b080-5f5553d7bc92",
   "metadata": {},
   "outputs": [
    {
     "name": "stdout",
     "output_type": "stream",
     "text": [
      "0\n"
     ]
    }
   ],
   "source": [
    "def solve_coin_change(denominations, amount):\n",
    "    # list 0 -> 7\n",
    "    if amount == 0:\n",
    "        return 0\n",
    "    solution = [0] * (amount + 1)\n",
    "    solution[0] = 1;\n",
    "    for den in denominations:\n",
    "        for i in range(den, amount + 1):\n",
    "            solution[i] += solution[i - den] \n",
    "    return solution.pop()\n",
    "\n",
    "print(solve_coin_change([1,2,5], 0))"
   ]
  },
  {
   "cell_type": "code",
   "execution_count": 193,
   "id": "d8d8ac5e-e7dc-4879-b119-372d32dfc56e",
   "metadata": {},
   "outputs": [
    {
     "name": "stdout",
     "output_type": "stream",
     "text": [
      "[['Abs', 'abbS', 'abc'], ['abbS'], ['abbS']]\n"
     ]
    }
   ],
   "source": [
    "def search(repository, customerQuery):\n",
    "    \n",
    "    search_result = []\n",
    "    output_len = len(customerQuery) - 2\n",
    "    word_list = list(customerQuery.upper())\n",
    "    if output_len >= 0:\n",
    "        for i in range(output_len + 1):\n",
    "            word_list_part = word_list[:(2+i)]\n",
    "            word = ''.join(word_list_part).upper()\n",
    "            line_result = []\n",
    "            for keyword in repository:\n",
    "                if word in keyword.upper():\n",
    "                    line_result.append(keyword)\n",
    "            line_result.sort()\n",
    "            search_result.append(line_result)\n",
    "                \n",
    "    return search_result\n",
    "\n",
    "\n",
    "word = 'bopipi'\n",
    "list_word = list(word)\n",
    "print(search([\"abbS\",\"abc\",\"Abs\", \"bcs\", \"cdde\", \"rgb\", \"yjmm\", \"xxmm\", \"zeee\"], \"abbs\"))\n"
   ]
  },
  {
   "cell_type": "code",
   "execution_count": 219,
   "id": "50d3a586-3c5d-4d8c-ab6e-641812a796eb",
   "metadata": {},
   "outputs": [
    {
     "name": "stdout",
     "output_type": "stream",
     "text": [
      "[-1, 1, -1, 1, -1, -1, -1, 1, 1, 1, 1, 1, -1]\n",
      "0 : 12\n",
      "13\n"
     ]
    }
   ],
   "source": [
    "badges = [-1, 1, -1, 1, -1, -1, -1, 1, 1, 1, 1, 1, -1]\n",
    "\n",
    "def sub_lists (l):\n",
    "    lists = [[]]\n",
    "    for i in range(len(l) + 1):\n",
    "        for j in range(i):\n",
    "            lists.append(l[j: i])\n",
    "    return lists\n",
    "\n",
    "# print(sub_lists([1, 2, 3, 4, 5, 6, 7, 8, 9, 10]))\n",
    "\n",
    "def multiplyList(myList) :\n",
    "    # Multiply elements one by one\n",
    "    result = 1\n",
    "    for x in myList:\n",
    "         result = result * x\n",
    "    return result\n",
    "\n",
    "def find_max_range (badges):\n",
    "    lists = [[]]\n",
    "    max_length = 0\n",
    "    scope = ''\n",
    "    for i in range(len(badges) + 1):\n",
    "        for j in range(i):\n",
    "            if multiplyList(badges[j: i]) == 1 and len(badges[j: i]) > max_length:\n",
    "                max_length = len(badges[j: i])\n",
    "                scope = '{} : {}'.format(j, i-1)\n",
    "    print(scope)\n",
    "    return max_length\n",
    "\n",
    "print(badges)\n",
    "max_range = find_max_range(badges)\n",
    "print(max_range)\n",
    "\n",
    "# Imbalance : grades, sort, rank diff"
   ]
  },
  {
   "cell_type": "code",
   "execution_count": 253,
   "id": "c1fc54ca-e750-4f8e-af89-238f70d1aa73",
   "metadata": {},
   "outputs": [
    {
     "name": "stdout",
     "output_type": "stream",
     "text": [
      "[False False False False  True  True  True False False False False]\n",
      "[5 5 5]\n",
      "3\n",
      "3\n",
      "3\n",
      "0\n",
      "2\n"
     ]
    },
    {
     "name": "stderr",
     "output_type": "stream",
     "text": [
      "/usr/local/lib/python3.7/site-packages/ipykernel_launcher.py:22: DeprecationWarning: elementwise comparison failed; this will raise an error in the future.\n"
     ]
    }
   ],
   "source": [
    "from IPython import display\n",
    "from base64 import b64decode\n",
    "\n",
    "base64_data = \"iVBORw0KGgoAAAANSUhEUgAAABAAAAANCAYAAACgu+4kAAAAuUlEQVR4nLWSMQ6EIBBF/0y28AJ03sDEnljS2XIIDyGVN/EAnIeCE3gCG5PZCrOssDEm+8rP/z8DDPBPiEiISH56asFvTUSKXr4TBoBpmop6VlALa61xHAeMMZfzc6xhGISZsW0bYoylns9p0LYtnHP0SqIxBiKCEAL6vof3vlqw7zucc5RdYVkWapoGzAzmy9NkrOt6Tp4553kmpRSUUtVw7TcudF0naQ/u7EMRa+3zcGIcx+fhO7wBmRY6xhpnhooAAAAASUVORK5CYII=\"\n",
    "# display.Image(b64decode(base64_data))\n",
    "display.HTML(f'<img width=\"500\" style=\"image-rendering:pixelated\" src=\"data:image/png;base64,{base64_data}\" />')\n",
    "\n",
    "import numpy as np\n",
    "\n",
    "stack = np.array([1,2,3,4,5,5,5,8,1,8,None])\n",
    "val = 5\n",
    "\n",
    "print(stack==val)\n",
    "print(stack[stack==val])\n",
    "\n",
    "nb_cov = np.count_nonzero(stack == val)\n",
    "print(nb_cov)\n",
    "nb_cov = np.count_nonzero(stack[stack==val])\n",
    "print(nb_cov)\n",
    "nb_cov = len(stack[stack==val])\n",
    "print(nb_cov)\n",
    "nb_cov = np.count_nonzero(stack[stack==[1, 5]])\n",
    "print(nb_cov)\n",
    "nb_cov = np.count_nonzero(np.in1d(stack, [1]))\n",
    "print(nb_cov)\n",
    "\n"
   ]
  },
  {
   "cell_type": "code",
   "execution_count": 256,
   "id": "dd844201-f057-4e80-8109-fd00e936db17",
   "metadata": {},
   "outputs": [
    {
     "data": {
      "text/html": [
       "<img width=\"500\" style=\"image-rendering:pixelated\" src=\"data:image/png;base64,iVBORw0KGgoAAAANSUhEUgAAABAAAAANCAYAAACgu+4kAAAAgElEQVR4nLWRPQ7AIAiFwcN4B2c3Ry/g6Cn05CZ0svEHKm3Sl5gY5IMHAvwpRCREpMccCVxjRMTmGg0MAJBzZuNTAQl2zkFrDbz38jh9Xmst9fvpTAVqrVRKUYEppRvG1YVocdC4UCM9aODNwckN12D7xjE5xvjKHasQgmovn3UB+apEIB0gy6MAAAAASUVORK5CYII=\" />"
      ],
      "text/plain": [
       "<IPython.core.display.HTML object>"
      ]
     },
     "execution_count": 256,
     "metadata": {},
     "output_type": "execute_result"
    }
   ],
   "source": [
    "base64_data = \"iVBORw0KGgoAAAANSUhEUgAAABAAAAANCAYAAACgu+4kAAAAuUlEQVR4nLWSMQ6EIBBF/0y28AJ03sDEnljS2XIIDyGVN/EAnIeCE3gCG5PZCrOssDEm+8rP/z8DDPBPiEiISH56asFvTUSKXr4TBoBpmop6VlALa61xHAeMMZfzc6xhGISZsW0bYoylns9p0LYtnHP0SqIxBiKCEAL6vof3vlqw7zucc5RdYVkWapoGzAzmy9NkrOt6Tp4553kmpRSUUtVw7TcudF0naQ/u7EMRa+3zcGIcx+fhO7wBmRY6xhpnhooAAAAASUVORK5CYII=\"\n",
    "# display.Image(b64decode(base64_data))\n",
    "display.HTML(f'<img width=\"500\" style=\"image-rendering:pixelated\" src=\"data:image/png;base64,{base64_data}\" />')"
   ]
  },
  {
   "cell_type": "code",
   "execution_count": 257,
   "id": "92357d02-2e11-457b-8954-28ecc3c27c37",
   "metadata": {},
   "outputs": [
    {
     "data": {
      "text/html": [
       "<img width=\"500\" style=\"image-rendering:pixelated\" src=\"data:image/png;base64,iVBORw0KGgoAAAANSUhEUgAAABAAAAANCAYAAACgu+4kAAAAgElEQVR4nLWRPQ7AIAiFwcN4B2c3Ry/g6Cn05CZ0svEHKm3Sl5gY5IMHAvwpRCREpMccCVxjRMTmGg0MAJBzZuNTAQl2zkFrDbz38jh9Xmst9fvpTAVqrVRKUYEppRvG1YVocdC4UCM9aODNwckN12D7xjE5xvjKHasQgmovn3UB+apEIB0gy6MAAAAASUVORK5CYII=\" />"
      ],
      "text/plain": [
       "<IPython.core.display.HTML object>"
      ]
     },
     "execution_count": 257,
     "metadata": {},
     "output_type": "execute_result"
    }
   ],
   "source": [
    "\n",
    "base64_data = \"iVBORw0KGgoAAAANSUhEUgAAABAAAAANCAYAAACgu+4kAAAAgElEQVR4nLWRPQ7AIAiFwcN4B2c3Ry/g6Cn05CZ0svEHKm3Sl5gY5IMHAvwpRCREpMccCVxjRMTmGg0MAJBzZuNTAQl2zkFrDbz38jh9Xmst9fvpTAVqrVRKUYEppRvG1YVocdC4UCM9aODNwckN12D7xjE5xvjKHasQgmovn3UB+apEIB0gy6MAAAAASUVORK5CYII=\"\n",
    "# display.Image(b64decode(base64_data))\n",
    "display.HTML(f'<img width=\"500\" style=\"image-rendering:pixelated\" src=\"data:image/png;base64,{base64_data}\" />')\n"
   ]
  },
  {
   "cell_type": "markdown",
   "id": "cdfe8f76-685b-43cf-a79b-8beb77acec5f",
   "metadata": {
    "tags": []
   },
   "source": [
    "# Vehicles API\n",
    "\n",
    "## Setup Project\n",
    "\n",
    "### Docker\n",
    "\n",
    "The project can be run directly in a Docker environment with docker and docker-compose installed\n",
    "\n",
    "```bash\n",
    "docker-compose up\n",
    "```\n",
    "\n",
    "Generate a local copy of local_settings.py\n",
    "\n",
    "```bash\n",
    "cp local_settings_example.py local_settings.py\n",
    "```\n",
    "\n",
    "Set environment dependent settings in local_settings.py, by default the settings are configured to run in development environment, so you can choose not to configure it\n",
    "\n",
    "- DEBUG \n",
    "- ALLOWED_HOSTS\n",
    "- SECRET_KEY \n",
    "- CORS_ALLOW_ALL_ORIGINS\n",
    "- CORS_ALLOWED_ORIGINS\n",
    "- ACCESS_TOKEN_LIFETIME\n",
    "- REFRESH_TOKEN_LIFETIME\n",
    "- SLIDING_TOKEN_LIFETIME\n",
    "- SLIDING_TOKEN_REFRESH_LIFETIME\n",
    "\n",
    "Generate a local copy of .env\n",
    "\n",
    "```bash\n",
    "cp .env.example .env\n",
    "```\n",
    "\n",
    "Set environment dependent credentials in .env, by default the settings are configured to run in docker environment,\n",
    "so you may need to change them as these will surely vary on your local machine\n",
    "\n",
    "- SECRET_KEY \n",
    "- MAIN_DATABASE_NAME\n",
    "- MAIN_DATABASE_USER\n",
    "- MAIN_DATABASE_PASSWORD\n",
    "- MAIN_DATABASE_HOST\n",
    "- MAIN_DATABASE_PORT\n",
    "\n",
    "## Tests\n",
    "\n",
    "Run tests in the docker container\n",
    "\n",
    "```bash\n",
    "docker exec -it vehicules_api bash\n",
    "python manage.py test\n",
    "```\n",
    "\n",
    "## Documentation\n",
    "\n",
    "A full working __swagger-ui__ view of this API specification can be found at ```/swagger/```\n",
    "\n",
    "## Specifications\n",
    "\n",
    "#### Users\n",
    "* Anyone can create user.\n",
    "* Deleting a user will delete related vehicles.\n",
    "* A user can only delete his own account.\n",
    "* After deleting an account don't forget to remove authorization header credentials or request will return *401 Error: Unauthorized*. Removing auth token is also normally what the client will do on logout or when the token refresh request response status code is not 200 (successful).\n",
    "\n",
    "#### Vehicles\n",
    "* Only authenticated user can create vehicles.\n",
    "* Only owners of a vehicle can update/create/delete the vehicle.\n",
    "\n",
    "#### Pagination\n",
    "* Default pagination size is set to 5.\n",
    "* API endpoint for ```/vehicles/``` (GET) include query parameter ```page_size``` that allows the client to set the page size on a per-request basis.\n",
    "* Accept a page number in the request query parameters. url example : ```/api/vehicles/?page=1&page_size=10```.\n",
    "* Default ordering is using created date value. Available keys for ordering are ```price``` and ```created```.\n",
    "* Ordering is parameterizable with ```ordering``` query parameter. example : ```/api/vehicles/?ordering=-price```\n",
    "\n",
    "#### Authentication\n",
    "Usually, JWT can be used in RESTful APIs. For production it is highly recommended to use HTTPS with a valide SSL certificate.\n",
    "Expected flow for creating/editing/deleting vehicle with __JWT authentication__ :\n",
    "* Create a user, endpoint ```/users/``` (POST)\n",
    "* Get access/refresh token ```/token/``` (POST). Default lifetime is 5 minutes but can be modified in /vehicles_api/local_settings.py config file of the project.\n",
    "* Authorize POST, DELETE and PUT/PATCH requests types by adding the token value in the request header.\n",
    "Format is : __Authorization: \\<type\\> \\<credentials\\>__ with type __Bearer__ (do not forget to include it !)\n",
    "\n",
    "## Improvements\n",
    "\n",
    "* Consider using foreign key for vehicle Type instead of hard-coded choices.\n"
   ]
  },
  {
   "cell_type": "code",
   "execution_count": null,
   "id": "ba2f2f8a-d64f-4f8d-afdd-54c5aaaa4d4c",
   "metadata": {},
   "outputs": [],
   "source": []
  }
 ],
 "metadata": {
  "kernelspec": {
   "display_name": "Python 3 (ipykernel)",
   "language": "python",
   "name": "python3"
  },
  "language_info": {
   "codemirror_mode": {
    "name": "ipython",
    "version": 3
   },
   "file_extension": ".py",
   "mimetype": "text/x-python",
   "name": "python",
   "nbconvert_exporter": "python",
   "pygments_lexer": "ipython3",
   "version": "3.7.12"
  }
 },
 "nbformat": 4,
 "nbformat_minor": 5
}
